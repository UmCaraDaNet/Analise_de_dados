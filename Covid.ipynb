{
 "cells": [
  {
   "cell_type": "markdown",
   "metadata": {},
   "source": [
    "#### Os dados, até a data do presente estudo, estão no https://covid.saude.gov.br/\n",
    "#### O presente arquivo é de 30 de junho. Atenção: de acordo com o dia em que for feita a análise, a última barra da totalização por semana estará menor.\n",
    "#### Disclaimer/Aviso Legal: Este notebook tem um fim única e exclusivamente didático, para alunos da FATEC, como uma introdução à Análise de Dados Públicos. Desse modo, está excluída a garantia ou responsabilidade de qualquer tipo, por exemplo, de precisão, confiabilidade, completude e atualidade das informações."
   ]
  },
  {
   "cell_type": "code",
   "execution_count": 1,
   "metadata": {},
   "outputs": [],
   "source": [
    "import pandas as pd\n",
    "#low_memory para ler mais rápido.\n",
    "low_memory=False\n",
    "import matplotlib.pyplot as plt\n",
    "%matplotlib inline\n",
    "pd.options.display.max_columns = 80\n",
    "pd.options.display.max_rows = 90"
   ]
  },
  {
   "cell_type": "code",
   "execution_count": 2,
   "metadata": {},
   "outputs": [],
   "source": [
    "filename = r'C:\\Users\\wagne\\Análise\\HIST_PAINEL_COVIDBR_08jul2020.xlsx'\n",
    "df = pd.read_excel(filename)"
   ]
  },
  {
   "cell_type": "code",
   "execution_count": 3,
   "metadata": {},
   "outputs": [
    {
     "data": {
      "text/plain": [
       "(568708, 17)"
      ]
     },
     "execution_count": 3,
     "metadata": {},
     "output_type": "execute_result"
    }
   ],
   "source": [
    "df.shape\n",
    "#linhas , colunas."
   ]
  },
  {
   "cell_type": "code",
   "execution_count": 4,
   "metadata": {},
   "outputs": [
    {
     "name": "stdout",
     "output_type": "stream",
     "text": [
      "<class 'pandas.core.frame.DataFrame'>\n",
      "RangeIndex: 568708 entries, 0 to 568707\n",
      "Data columns (total 17 columns):\n",
      " #   Column                  Non-Null Count   Dtype         \n",
      "---  ------                  --------------   -----         \n",
      " 0   regiao                  568708 non-null  object        \n",
      " 1   estado                  568573 non-null  object        \n",
      " 2   municipio               562744 non-null  object        \n",
      " 3   coduf                   568708 non-null  int64         \n",
      " 4   codmun                  564928 non-null  float64       \n",
      " 5   codRegiaoSaude          562744 non-null  float64       \n",
      " 6   nomeRegiaoSaude         562744 non-null  object        \n",
      " 7   data                    568708 non-null  datetime64[ns]\n",
      " 8   semanaEpi               568708 non-null  int64         \n",
      " 9   populacaoTCU2019        566524 non-null  object        \n",
      " 10  casosAcumulado          568708 non-null  int64         \n",
      " 11  casosNovos              568708 non-null  int64         \n",
      " 12  obitosAcumulado         568708 non-null  int64         \n",
      " 13  obitosNovos             568708 non-null  int64         \n",
      " 14  Recuperadosnovos        81 non-null      float64       \n",
      " 15  emAcompanhamentoNovos   81 non-null      float64       \n",
      " 16  interior/metropolitana  562744 non-null  float64       \n",
      "dtypes: datetime64[ns](1), float64(5), int64(6), object(5)\n",
      "memory usage: 73.8+ MB\n"
     ]
    }
   ],
   "source": [
    "df.info()"
   ]
  },
  {
   "cell_type": "code",
   "execution_count": 5,
   "metadata": {},
   "outputs": [
    {
     "data": {
      "text/html": [
       "<div>\n",
       "<style scoped>\n",
       "    .dataframe tbody tr th:only-of-type {\n",
       "        vertical-align: middle;\n",
       "    }\n",
       "\n",
       "    .dataframe tbody tr th {\n",
       "        vertical-align: top;\n",
       "    }\n",
       "\n",
       "    .dataframe thead th {\n",
       "        text-align: right;\n",
       "    }\n",
       "</style>\n",
       "<table border=\"1\" class=\"dataframe\">\n",
       "  <thead>\n",
       "    <tr style=\"text-align: right;\">\n",
       "      <th></th>\n",
       "      <th>regiao</th>\n",
       "      <th>estado</th>\n",
       "      <th>municipio</th>\n",
       "      <th>coduf</th>\n",
       "      <th>codmun</th>\n",
       "      <th>codRegiaoSaude</th>\n",
       "      <th>nomeRegiaoSaude</th>\n",
       "      <th>data</th>\n",
       "      <th>semanaEpi</th>\n",
       "      <th>populacaoTCU2019</th>\n",
       "      <th>casosAcumulado</th>\n",
       "      <th>casosNovos</th>\n",
       "      <th>obitosAcumulado</th>\n",
       "      <th>obitosNovos</th>\n",
       "      <th>Recuperadosnovos</th>\n",
       "      <th>emAcompanhamentoNovos</th>\n",
       "      <th>interior/metropolitana</th>\n",
       "    </tr>\n",
       "  </thead>\n",
       "  <tbody>\n",
       "    <tr>\n",
       "      <th>137059</th>\n",
       "      <td>Nordeste</td>\n",
       "      <td>PB</td>\n",
       "      <td>Camalaú</td>\n",
       "      <td>25</td>\n",
       "      <td>250390.0</td>\n",
       "      <td>25005.0</td>\n",
       "      <td>5ª REGIAO</td>\n",
       "      <td>2020-05-21</td>\n",
       "      <td>21</td>\n",
       "      <td>6013</td>\n",
       "      <td>0</td>\n",
       "      <td>0</td>\n",
       "      <td>0</td>\n",
       "      <td>0</td>\n",
       "      <td>NaN</td>\n",
       "      <td>NaN</td>\n",
       "      <td>0.0</td>\n",
       "    </tr>\n",
       "    <tr>\n",
       "      <th>81078</th>\n",
       "      <td>Nordeste</td>\n",
       "      <td>PI</td>\n",
       "      <td>Francisco Ayres</td>\n",
       "      <td>22</td>\n",
       "      <td>220410.0</td>\n",
       "      <td>22011.0</td>\n",
       "      <td>VALE DOS RIOS PIAUI E ITAUEIRAS</td>\n",
       "      <td>2020-04-22</td>\n",
       "      <td>17</td>\n",
       "      <td>4348</td>\n",
       "      <td>0</td>\n",
       "      <td>0</td>\n",
       "      <td>0</td>\n",
       "      <td>0</td>\n",
       "      <td>NaN</td>\n",
       "      <td>NaN</td>\n",
       "      <td>0.0</td>\n",
       "    </tr>\n",
       "    <tr>\n",
       "      <th>233817</th>\n",
       "      <td>Nordeste</td>\n",
       "      <td>BA</td>\n",
       "      <td>Valença</td>\n",
       "      <td>29</td>\n",
       "      <td>293290.0</td>\n",
       "      <td>29027.0</td>\n",
       "      <td>VALENCA</td>\n",
       "      <td>2020-06-28</td>\n",
       "      <td>27</td>\n",
       "      <td>96562</td>\n",
       "      <td>519</td>\n",
       "      <td>58</td>\n",
       "      <td>16</td>\n",
       "      <td>2</td>\n",
       "      <td>NaN</td>\n",
       "      <td>NaN</td>\n",
       "      <td>0.0</td>\n",
       "    </tr>\n",
       "    <tr>\n",
       "      <th>335446</th>\n",
       "      <td>Sudeste</td>\n",
       "      <td>RJ</td>\n",
       "      <td>Itaperuna</td>\n",
       "      <td>33</td>\n",
       "      <td>330220.0</td>\n",
       "      <td>33007.0</td>\n",
       "      <td>NOROESTE</td>\n",
       "      <td>2020-04-06</td>\n",
       "      <td>15</td>\n",
       "      <td>103224</td>\n",
       "      <td>2</td>\n",
       "      <td>1</td>\n",
       "      <td>0</td>\n",
       "      <td>0</td>\n",
       "      <td>NaN</td>\n",
       "      <td>NaN</td>\n",
       "      <td>0.0</td>\n",
       "    </tr>\n",
       "    <tr>\n",
       "      <th>294016</th>\n",
       "      <td>Sudeste</td>\n",
       "      <td>MG</td>\n",
       "      <td>Peçanha</td>\n",
       "      <td>31</td>\n",
       "      <td>314860.0</td>\n",
       "      <td>31080.0</td>\n",
       "      <td>PECANHA/SAO JOAO EVANGELISTA</td>\n",
       "      <td>2020-06-11</td>\n",
       "      <td>24</td>\n",
       "      <td>17541</td>\n",
       "      <td>0</td>\n",
       "      <td>0</td>\n",
       "      <td>0</td>\n",
       "      <td>0</td>\n",
       "      <td>NaN</td>\n",
       "      <td>NaN</td>\n",
       "      <td>0.0</td>\n",
       "    </tr>\n",
       "    <tr>\n",
       "      <th>233136</th>\n",
       "      <td>Nordeste</td>\n",
       "      <td>BA</td>\n",
       "      <td>Uibaí</td>\n",
       "      <td>29</td>\n",
       "      <td>293240.0</td>\n",
       "      <td>29010.0</td>\n",
       "      <td>IRECE</td>\n",
       "      <td>2020-05-02</td>\n",
       "      <td>18</td>\n",
       "      <td>13887</td>\n",
       "      <td>0</td>\n",
       "      <td>0</td>\n",
       "      <td>0</td>\n",
       "      <td>0</td>\n",
       "      <td>NaN</td>\n",
       "      <td>NaN</td>\n",
       "      <td>0.0</td>\n",
       "    </tr>\n",
       "    <tr>\n",
       "      <th>293657</th>\n",
       "      <td>Sudeste</td>\n",
       "      <td>MG</td>\n",
       "      <td>Paula Cândido</td>\n",
       "      <td>31</td>\n",
       "      <td>314830.0</td>\n",
       "      <td>31061.0</td>\n",
       "      <td>VICOSA</td>\n",
       "      <td>2020-04-25</td>\n",
       "      <td>17</td>\n",
       "      <td>9571</td>\n",
       "      <td>0</td>\n",
       "      <td>0</td>\n",
       "      <td>0</td>\n",
       "      <td>0</td>\n",
       "      <td>NaN</td>\n",
       "      <td>NaN</td>\n",
       "      <td>0.0</td>\n",
       "    </tr>\n",
       "    <tr>\n",
       "      <th>91540</th>\n",
       "      <td>Nordeste</td>\n",
       "      <td>PI</td>\n",
       "      <td>São João da Fronteira</td>\n",
       "      <td>22</td>\n",
       "      <td>220987.0</td>\n",
       "      <td>22003.0</td>\n",
       "      <td>COCAIS</td>\n",
       "      <td>2020-06-23</td>\n",
       "      <td>26</td>\n",
       "      <td>6042</td>\n",
       "      <td>10</td>\n",
       "      <td>0</td>\n",
       "      <td>0</td>\n",
       "      <td>0</td>\n",
       "      <td>NaN</td>\n",
       "      <td>NaN</td>\n",
       "      <td>0.0</td>\n",
       "    </tr>\n",
       "    <tr>\n",
       "      <th>179534</th>\n",
       "      <td>Nordeste</td>\n",
       "      <td>AL</td>\n",
       "      <td>Maribondo</td>\n",
       "      <td>27</td>\n",
       "      <td>270480.0</td>\n",
       "      <td>27008.0</td>\n",
       "      <td>8ª REGIAO DE SAUDE</td>\n",
       "      <td>2020-07-03</td>\n",
       "      <td>27</td>\n",
       "      <td>13264</td>\n",
       "      <td>177</td>\n",
       "      <td>0</td>\n",
       "      <td>6</td>\n",
       "      <td>0</td>\n",
       "      <td>NaN</td>\n",
       "      <td>NaN</td>\n",
       "      <td>0.0</td>\n",
       "    </tr>\n",
       "    <tr>\n",
       "      <th>39438</th>\n",
       "      <td>Norte</td>\n",
       "      <td>TO</td>\n",
       "      <td>Cachoeirinha</td>\n",
       "      <td>17</td>\n",
       "      <td>170382.0</td>\n",
       "      <td>17002.0</td>\n",
       "      <td>BICO DO PAPAGAIO</td>\n",
       "      <td>2020-06-25</td>\n",
       "      <td>26</td>\n",
       "      <td>2275</td>\n",
       "      <td>9</td>\n",
       "      <td>0</td>\n",
       "      <td>0</td>\n",
       "      <td>0</td>\n",
       "      <td>NaN</td>\n",
       "      <td>NaN</td>\n",
       "      <td>0.0</td>\n",
       "    </tr>\n",
       "  </tbody>\n",
       "</table>\n",
       "</div>"
      ],
      "text/plain": [
       "          regiao estado              municipio  coduf    codmun  \\\n",
       "137059  Nordeste     PB                Camalaú     25  250390.0   \n",
       "81078   Nordeste     PI        Francisco Ayres     22  220410.0   \n",
       "233817  Nordeste     BA                Valença     29  293290.0   \n",
       "335446   Sudeste     RJ              Itaperuna     33  330220.0   \n",
       "294016   Sudeste     MG                Peçanha     31  314860.0   \n",
       "233136  Nordeste     BA                  Uibaí     29  293240.0   \n",
       "293657   Sudeste     MG          Paula Cândido     31  314830.0   \n",
       "91540   Nordeste     PI  São João da Fronteira     22  220987.0   \n",
       "179534  Nordeste     AL              Maribondo     27  270480.0   \n",
       "39438      Norte     TO           Cachoeirinha     17  170382.0   \n",
       "\n",
       "        codRegiaoSaude                  nomeRegiaoSaude       data  semanaEpi  \\\n",
       "137059         25005.0                        5ª REGIAO 2020-05-21         21   \n",
       "81078          22011.0  VALE DOS RIOS PIAUI E ITAUEIRAS 2020-04-22         17   \n",
       "233817         29027.0                          VALENCA 2020-06-28         27   \n",
       "335446         33007.0                         NOROESTE 2020-04-06         15   \n",
       "294016         31080.0     PECANHA/SAO JOAO EVANGELISTA 2020-06-11         24   \n",
       "233136         29010.0                            IRECE 2020-05-02         18   \n",
       "293657         31061.0                           VICOSA 2020-04-25         17   \n",
       "91540          22003.0                           COCAIS 2020-06-23         26   \n",
       "179534         27008.0               8ª REGIAO DE SAUDE 2020-07-03         27   \n",
       "39438          17002.0                 BICO DO PAPAGAIO 2020-06-25         26   \n",
       "\n",
       "       populacaoTCU2019  casosAcumulado  casosNovos  obitosAcumulado  \\\n",
       "137059             6013               0           0                0   \n",
       "81078              4348               0           0                0   \n",
       "233817            96562             519          58               16   \n",
       "335446           103224               2           1                0   \n",
       "294016            17541               0           0                0   \n",
       "233136            13887               0           0                0   \n",
       "293657             9571               0           0                0   \n",
       "91540              6042              10           0                0   \n",
       "179534            13264             177           0                6   \n",
       "39438              2275               9           0                0   \n",
       "\n",
       "        obitosNovos  Recuperadosnovos  emAcompanhamentoNovos  \\\n",
       "137059            0               NaN                    NaN   \n",
       "81078             0               NaN                    NaN   \n",
       "233817            2               NaN                    NaN   \n",
       "335446            0               NaN                    NaN   \n",
       "294016            0               NaN                    NaN   \n",
       "233136            0               NaN                    NaN   \n",
       "293657            0               NaN                    NaN   \n",
       "91540             0               NaN                    NaN   \n",
       "179534            0               NaN                    NaN   \n",
       "39438             0               NaN                    NaN   \n",
       "\n",
       "        interior/metropolitana  \n",
       "137059                     0.0  \n",
       "81078                      0.0  \n",
       "233817                     0.0  \n",
       "335446                     0.0  \n",
       "294016                     0.0  \n",
       "233136                     0.0  \n",
       "293657                     0.0  \n",
       "91540                      0.0  \n",
       "179534                     0.0  \n",
       "39438                      0.0  "
      ]
     },
     "execution_count": 5,
     "metadata": {},
     "output_type": "execute_result"
    }
   ],
   "source": [
    "df.sample(10)"
   ]
  },
  {
   "cell_type": "code",
   "execution_count": 6,
   "metadata": {},
   "outputs": [
    {
     "data": {
      "text/plain": [
       "estado\n",
       "SP    341365\n",
       "CE    128471\n",
       "RJ    126329\n",
       "PA    118744\n",
       "BA     95536\n",
       "MA     92939\n",
       "AM     80082\n",
       "PE     67604\n",
       "DF     64314\n",
       "MG     64035\n",
       "ES     58537\n",
       "PB     56344\n",
       "AL     42322\n",
       "SC     36810\n",
       "RN     36511\n",
       "PR     35715\n",
       "RS     35557\n",
       "GO     32664\n",
       "SE     32490\n",
       "AP     30524\n",
       "PI     28411\n",
       "RO     25067\n",
       "MT     23835\n",
       "RR     19284\n",
       "AC     15167\n",
       "TO     13440\n",
       "MS     11063\n",
       "Name: casosAcumulado, dtype: int64"
      ]
     },
     "execution_count": 6,
     "metadata": {},
     "output_type": "execute_result"
    }
   ],
   "source": [
    "#o groupby foi usado pra juntar todos da coluna estado junto com a coluna de casosAcumulados. \n",
    "#O max() foi usado pra pegar o número máximo de casos acumulados.\n",
    "#O sort está ai para organizar, caso o \"ascending\" seja Falso a lista começará do menor para o maior. \n",
    "#Caso contrário será do maior para o menor.\n",
    "df.groupby('estado')['casosAcumulado'].max().sort_values(ascending=False)"
   ]
  },
  {
   "cell_type": "code",
   "execution_count": 7,
   "metadata": {},
   "outputs": [
    {
     "data": {
      "text/plain": [
       "<matplotlib.axes._subplots.AxesSubplot at 0x1a045610ac8>"
      ]
     },
     "execution_count": 7,
     "metadata": {},
     "output_type": "execute_result"
    },
    {
     "data": {
      "image/png": "[encoded data removed]",
      "text/plain": [
       "<Figure size 432x288 with 1 Axes>"
      ]
     },
     "metadata": {
      "needs_background": "light"
     },
     "output_type": "display_data"
    }
   ],
   "source": [
    "# Novamente o groupby para combinar os estados com o número de óbitos acumulados.\n",
    "# Com o \"tail(5)\", pegamos apenas os 5 ultimos maiores casos.\n",
    "# E o \"plot\" é usando para criar um gráfico. Kind='barh' especifica que as barrars serão na Horizontal. \n",
    "df.groupby('estado')['obitosAcumulado'].max().sort_values().tail(5).plot(kind='barh')"
   ]
  },
  {
   "cell_type": "code",
   "execution_count": 8,
   "metadata": {},
   "outputs": [],
   "source": [
    "# Aqui a data dos acontecimentos foi especificada para mostar apenas o dia(%d) e o mês(%m).\n",
    "df[\"data\"] = df[\"data\"].dt.strftime('%d/%m')"
   ]
  },
  {
   "cell_type": "code",
   "execution_count": 11,
   "metadata": {},
   "outputs": [
    {
     "data": {
      "text/plain": [
       "<matplotlib.axes._subplots.AxesSubplot at 0x1a02c53c588>"
      ]
     },
     "execution_count": 11,
     "metadata": {},
     "output_type": "execute_result"
    },
    {
     "data": {
      "image/png": "[encoded data removed]",
      "text/plain": [
       "<Figure size 432x288 with 1 Axes>"
      ]
     },
     "metadata": {
      "needs_background": "light"
     },
     "output_type": "display_data"
    }
   ],
   "source": [
    "# Aqui análisamos os casos novos que apareceram por dia durante uma semana em São Paulo.\n",
    "sp = df.query('municipio == \"São Paulo\"')\n",
    "sp.tail(10).plot(kind='bar', \n",
    "        x='data', y='casosNovos', color='RED')"
   ]
  },
  {
   "cell_type": "code",
   "execution_count": 14,
   "metadata": {},
   "outputs": [
    {
     "data": {
      "text/plain": [
       "<matplotlib.axes._subplots.AxesSubplot at 0x1a02b55f978>"
      ]
     },
     "execution_count": 14,
     "metadata": {},
     "output_type": "execute_result"
    },
    {
     "data": {
      "image/png": "[encoded data removed]",
      "text/plain": [
       "<Figure size 432x288 with 1 Axes>"
      ]
     },
     "metadata": {
      "needs_background": "light"
     },
     "output_type": "display_data"
    }
   ],
   "source": [
    "# Aqui é o gráfico dos casos novos por semana.\n",
    "sp.groupby('semanaEpi')['casosNovos'].sum().plot(kind='bar')"
   ]
  },
  {
   "cell_type": "code",
   "execution_count": 15,
   "metadata": {},
   "outputs": [
    {
     "data": {
      "text/plain": [
       "<matplotlib.axes._subplots.AxesSubplot at 0x1a02af83ef0>"
      ]
     },
     "execution_count": 15,
     "metadata": {},
     "output_type": "execute_result"
    },
    {
     "data": {
      "image/png": "[encoded data removed]",
      "text/plain": [
       "<Figure size 432x288 with 1 Axes>"
      ]
     },
     "metadata": {
      "needs_background": "light"
     },
     "output_type": "display_data"
    }
   ],
   "source": [
    "# Um gráfico mostrando os casos novos em SJC a cada dia dentro de uma semana.\n",
    "sjc = df.query('municipio == \"São José dos Campos\"')\n",
    "sjc.tail(10).plot(kind='bar', \n",
    "        x='data', y='casosNovos', color='RED')"
   ]
  },
  {
   "cell_type": "code",
   "execution_count": 17,
   "metadata": {},
   "outputs": [
    {
     "data": {
      "text/plain": [
       "<matplotlib.axes._subplots.AxesSubplot at 0x1a02a537940>"
      ]
     },
     "execution_count": 17,
     "metadata": {},
     "output_type": "execute_result"
    },
    {
     "data": {
      "image/png": "[encoded data removed]",
      "text/plain": [
       "<Figure size 432x288 with 1 Axes>"
      ]
     },
     "metadata": {
      "needs_background": "light"
     },
     "output_type": "display_data"
    }
   ],
   "source": [
    "# Este é um gráfico mostrando o somatório dos casos novos das semanas.\n",
    "sp.groupby('semanaEpi')['casosNovos'].sum().plot(kind='bar')"
   ]
  },
  {
   "cell_type": "code",
   "execution_count": null,
   "metadata": {},
   "outputs": [],
   "source": []
  }
 ],
 "metadata": {
  "kernelspec": {
   "display_name": "Python 3",
   "language": "python",
   "name": "python3"
  },
  "language_info": {
   "codemirror_mode": {
    "name": "ipython",
    "version": 3
   },
   "file_extension": ".py",
   "mimetype": "text/x-python",
   "name": "python",
   "nbconvert_exporter": "python",
   "pygments_lexer": "ipython3",
   "version": "3.7.3"
  }
 },
 "nbformat": 4,
 "nbformat_minor": 4
}
